{
 "cells": [
  {
   "cell_type": "code",
   "execution_count": 1,
   "metadata": {},
   "outputs": [
    {
     "name": "stdout",
     "output_type": "stream",
     "text": [
      "Archive extracted\n"
     ]
    }
   ],
   "source": [
    "import shutil\n",
    "\n",
    "def unpack(archive, extract_dir):\n",
    "    try:\n",
    "        shutil.unpack_archive(archive, extract_dir = extract_dir)\n",
    "        print(\"Archive extracted\")\n",
    "    except FileNotFoundError:\n",
    "        print(\"Error\")\n",
    "        \n",
    "unpack(\"100x100.zip\", \"100x100/\")"
   ]
  },
  {
   "cell_type": "code",
   "execution_count": null,
   "metadata": {},
   "outputs": [],
   "source": []
  }
 ],
 "metadata": {
  "kernelspec": {
   "display_name": "Python 3",
   "language": "python",
   "name": "python3"
  },
  "language_info": {
   "codemirror_mode": {
    "name": "ipython",
    "version": 3
   },
   "file_extension": ".py",
   "mimetype": "text/x-python",
   "name": "python",
   "nbconvert_exporter": "python",
   "pygments_lexer": "ipython3",
   "version": "3.7.0"
  }
 },
 "nbformat": 4,
 "nbformat_minor": 2
}
